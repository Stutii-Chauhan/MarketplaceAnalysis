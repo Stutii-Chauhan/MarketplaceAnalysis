{
 "cells": [
  {
   "cell_type": "code",
   "execution_count": null,
   "id": "f9574bd1",
   "metadata": {},
   "outputs": [],
   "source": [
    "!pip install beautifulsoup4"
   ]
  },
  {
   "cell_type": "code",
   "execution_count": null,
   "id": "09615c88",
   "metadata": {},
   "outputs": [],
   "source": [
    "pip install pandas\n"
   ]
  },
  {
   "cell_type": "code",
   "execution_count": null,
   "id": "c86a53fc",
   "metadata": {},
   "outputs": [],
   "source": [
    "import os\n",
    "import time\n",
    "import random\n",
    "import pandas as pd\n",
    "from bs4 import BeautifulSoup\n",
    "import numpy as np\n",
    "from concurrent.futures import ThreadPoolExecutor, as_completed"
   ]
  },
  {
   "cell_type": "code",
   "execution_count": 49,
   "id": "406a2247",
   "metadata": {},
   "outputs": [],
   "source": [
    "FOLDER_PATH = \"C:\\\\Users\\\\stuti\\\\OneDrive - Symbiosis International University\\\\Desktop\\\\HTML_Folder\"\n",
    "BATCH_SIZE = 2500\n",
    "MAX_WORKERS = 6"
   ]
  },
  {
   "cell_type": "code",
   "execution_count": 50,
   "id": "3b84b990",
   "metadata": {},
   "outputs": [],
   "source": [
    "# Store results here\n",
    "data = []"
   ]
  },
  {
   "cell_type": "code",
   "execution_count": 51,
   "id": "11c07e24",
   "metadata": {},
   "outputs": [],
   "source": [
    "def get_text(soup, query, attr=\"text\"):\n",
    "    try:\n",
    "        tag = soup.select_one(query)\n",
    "        return tag.get(attr) if attr != \"text\" and tag else tag.get_text(strip=True)\n",
    "    except:\n",
    "        return None"
   ]
  },
  {
   "cell_type": "code",
   "execution_count": 52,
   "id": "29059800",
   "metadata": {},
   "outputs": [],
   "source": [
    "def get_table_value(soup, label):\n",
    "    label = label.lower()\n",
    "\n",
    "    # STEP 1: Search in known ID-based tables\n",
    "    table_ids = [\n",
    "        \"technicalSpecifications_section_1\",\n",
    "        \"productDetails_techSpec_section_1\"\n",
    "    ]\n",
    "    for table_id in table_ids:\n",
    "        table = soup.find(\"table\", id=table_id)\n",
    "        if table:\n",
    "            th = table.find(\"th\", string=lambda s: s and label in s.lower())\n",
    "            if th:\n",
    "                td = th.find_next_sibling(\"td\")\n",
    "                if td:\n",
    "                    return td.get_text(strip=True).replace(\"\\u200e\", \"\")\n",
    "\n",
    "    # STEP 2: Search in class-based fallback tables\n",
    "    fallback_tables = soup.find_all(\"table\", class_=\"prodDetTable\")\n",
    "    for table in fallback_tables:\n",
    "        for row in table.find_all(\"tr\"):\n",
    "            cells = row.find_all([\"th\", \"td\"])\n",
    "            if len(cells) >= 2 and label in cells[0].get_text(strip=True).lower():\n",
    "                return cells[1].get_text(strip=True).replace(\"\\u200e\", \"\")\n",
    "\n",
    "    # STEP 3: Full fallback – search any generic table\n",
    "    for table in soup.find_all(\"table\"):\n",
    "        for row in table.find_all(\"tr\"):\n",
    "            cells = row.find_all([\"th\", \"td\"])\n",
    "            if len(cells) >= 2:\n",
    "                header_text = cells[0].get_text(strip=True).lower()\n",
    "                if label in header_text:\n",
    "                    return cells[1].get_text(strip=True).replace(\"\\u200e\", \"\")\n",
    "\n",
    "    return None"
   ]
  },
  {
   "cell_type": "code",
   "execution_count": 53,
   "id": "f969006e",
   "metadata": {},
   "outputs": [],
   "source": [
    "def process_file(file_name):\n",
    "    if not file_name.endswith(\".html\"):\n",
    "        return None\n",
    "    \n",
    "    print(f\"🔄 Scraping {file_name}\")\n",
    "\n",
    "    file_path = os.path.join(FOLDER_PATH, file_name)\n",
    "    try:\n",
    "        with open(file_path, \"r\", encoding=\"utf-8\") as f:\n",
    "            soup = BeautifulSoup(f.read(), \"html.parser\")\n",
    "\n",
    "            record = {\n",
    "                \"File\": file_name,\n",
    "                \"URL\": get_text(soup, \"link[rel='canonical']\", attr=\"href\"),\n",
    "                \"Brand\": get_table_value(soup, \"Brand\"),\n",
    "                \"Product Name\": get_text(soup, \"#productTitle\"),\n",
    "                \"Model Number\": get_table_value(soup, \"Model Number\"),\n",
    "                \"Model Year\": get_table_value(soup, \"Model Year\"),\n",
    "                \"Price\": get_text(soup, \"span.a-price-whole\"),\n",
    "                \"Rating(out of 5)\": get_text(soup, \"span.a-icon-alt\"),\n",
    "                \"Discount (%)\": None,\n",
    "\n",
    "                \"Band Colour\": get_table_value(soup, \"Band Colour\"),\n",
    "                \"Band Material\": get_table_value(soup, \"Band Material\"),\n",
    "                \"Band Width\": get_table_value(soup, \"Band Width\"),\n",
    "\n",
    "                \"Case Diameter\": get_table_value(soup, \"Case Diameter\"),\n",
    "                \"Case Material\": get_table_value(soup, \"Case Material\"),\n",
    "                \"Case Thickness\": get_table_value(soup, \"Case Thickness\"),\n",
    "\n",
    "                \"Dial Colour\": get_table_value(soup, \"Dial Colour\"),\n",
    "                \"Crystal Material\": get_table_value(soup, \"Crystal Material\"),\n",
    "                \"Case Shape\": get_table_value(soup, \"Case Shape\"),\n",
    "                \"Movement\": get_table_value(soup, \"Movement\"),\n",
    "                \"Water Resistance Depth\": get_table_value(soup, \"Water Resistance\"),\n",
    "                \"Special Features\": get_table_value(soup, \"Special Features\"),\n",
    "\n",
    "                \"Image\": get_text(soup, \"#landingImage\", attr=\"data-a-dynamic-image\"),\n",
    "                \"ImageURL\": get_text(soup, \"#landingImage\", attr=\"src\")\n",
    "            }\n",
    "\n",
    "            discount_tag = soup.find(\"span\", class_=lambda c: c and \"savingsPercentage\" in c)\n",
    "            if discount_tag:\n",
    "                record[\"Discount (%)\"] = discount_tag.get_text(strip=True)\n",
    "\n",
    "            return record\n",
    "\n",
    "    except Exception as e:\n",
    "        print(f\"❌ Error processing {file_name}: {e}\")\n",
    "        return None\n"
   ]
  },
  {
   "cell_type": "code",
   "execution_count": null,
   "id": "bef1160f",
   "metadata": {},
   "outputs": [],
   "source": [
    "from concurrent.futures import ThreadPoolExecutor, as_completed\n",
    "import os\n",
    "\n",
    "data = []\n",
    "\n",
    "# Load and limit file list if needed\n",
    "file_list = sorted(\n",
    "    [f for f in os.listdir(FOLDER_PATH) if f.endswith(\".html\")],\n",
    "    key=lambda x: int(os.path.splitext(x)[0])\n",
    ")[:]  # ⬅️ change this to run full list or first 25\n",
    "\n",
    "# Multithreaded execution\n",
    "with ThreadPoolExecutor(max_workers=8) as executor:\n",
    "    futures = [executor.submit(process_file, file) for file in file_list]\n",
    "    for future in as_completed(futures):\n",
    "        result = future.result()\n",
    "        if result:\n",
    "            data.append(result)\n"
   ]
  },
  {
   "cell_type": "code",
   "execution_count": null,
   "id": "4d8d6a06",
   "metadata": {},
   "outputs": [],
   "source": [
    "df = pd.DataFrame(data)\n",
    "df.head(10)"
   ]
  },
  {
   "cell_type": "markdown",
   "id": "23e1e8a7",
   "metadata": {},
   "source": [
    "Data Cleaning"
   ]
  },
  {
   "cell_type": "code",
   "execution_count": 178,
   "id": "a89bf472",
   "metadata": {},
   "outputs": [],
   "source": [
    "df= pd.read_excel(r\"C:\\Users\\stuti\\OneDrive - Symbiosis International University\\Desktop\\HTML_Folder\\Final_Watch_Data.xlsx\")"
   ]
  },
  {
   "cell_type": "code",
   "execution_count": 179,
   "id": "b0ccd1f2",
   "metadata": {},
   "outputs": [
    {
     "data": {
      "text/plain": [
       "File                      11226\n",
       "URL                       11217\n",
       "Brand                     10876\n",
       "Product Name              11217\n",
       "Model Number              10688\n",
       "Model Year                 1506\n",
       "Price                     11177\n",
       "Rating(out of 5)          11217\n",
       "Discount (%)               7754\n",
       "Band Colour                9715\n",
       "Band Material             10489\n",
       "Band Width                 9443\n",
       "Case Diameter              9638\n",
       "Case Material              9595\n",
       "Case Thickness             9504\n",
       "Dial Colour                9750\n",
       "Crystal Material           8723\n",
       "Case Shape                 9725\n",
       "Movement                  10569\n",
       "Water Resistance Depth     8188\n",
       "Special Features           6864\n",
       "Image                     11217\n",
       "ImageURL                  11217\n",
       "dtype: int64"
      ]
     },
     "execution_count": 179,
     "metadata": {},
     "output_type": "execute_result"
    }
   ],
   "source": [
    "df.count()"
   ]
  },
  {
   "cell_type": "code",
   "execution_count": 180,
   "id": "d47a8400",
   "metadata": {},
   "outputs": [],
   "source": [
    "#delete rows with NaN/blank in URL column and also in the Price Column.\n",
    "df = df.dropna(subset=[\"URL\"])\n",
    "df = df.dropna(subset=[\"Price\"])\n",
    "\n"
   ]
  },
  {
   "cell_type": "code",
   "execution_count": 181,
   "id": "7c74e9fc",
   "metadata": {},
   "outputs": [
    {
     "data": {
      "text/plain": [
       "File                      11177\n",
       "URL                       11177\n",
       "Brand                     10861\n",
       "Product Name              11177\n",
       "Model Number              10678\n",
       "Model Year                 1504\n",
       "Price                     11177\n",
       "Rating(out of 5)          11177\n",
       "Discount (%)               7754\n",
       "Band Colour                9703\n",
       "Band Material             10481\n",
       "Band Width                 9435\n",
       "Case Diameter              9624\n",
       "Case Material              9587\n",
       "Case Thickness             9493\n",
       "Dial Colour                9737\n",
       "Crystal Material           8715\n",
       "Case Shape                 9711\n",
       "Movement                  10554\n",
       "Water Resistance Depth     8181\n",
       "Special Features           6855\n",
       "Image                     11177\n",
       "ImageURL                  11177\n",
       "dtype: int64"
      ]
     },
     "execution_count": 181,
     "metadata": {},
     "output_type": "execute_result"
    }
   ],
   "source": [
    "df.count()"
   ]
  },
  {
   "cell_type": "code",
   "execution_count": 182,
   "id": "1a41b9d5",
   "metadata": {},
   "outputs": [],
   "source": [
    "#delete duplicate values with Product Name + Model Number\n",
    "\n",
    "df = df.drop_duplicates(subset=[\"Product Name\", \"Model Number\"], keep=\"first\")"
   ]
  },
  {
   "cell_type": "code",
   "execution_count": 183,
   "id": "e6191a0c",
   "metadata": {},
   "outputs": [
    {
     "data": {
      "text/plain": [
       "File                      8672\n",
       "URL                       8672\n",
       "Brand                     8479\n",
       "Product Name              8672\n",
       "Model Number              8307\n",
       "Model Year                1131\n",
       "Price                     8672\n",
       "Rating(out of 5)          8672\n",
       "Discount (%)              5549\n",
       "Band Colour               7865\n",
       "Band Material             8191\n",
       "Band Width                7682\n",
       "Case Diameter             7866\n",
       "Case Material             7763\n",
       "Case Thickness            7731\n",
       "Dial Colour               7897\n",
       "Crystal Material          7250\n",
       "Case Shape                7872\n",
       "Movement                  8256\n",
       "Water Resistance Depth    6840\n",
       "Special Features          5538\n",
       "Image                     8672\n",
       "ImageURL                  8672\n",
       "dtype: int64"
      ]
     },
     "execution_count": 183,
     "metadata": {},
     "output_type": "execute_result"
    }
   ],
   "source": [
    "df.count()"
   ]
  },
  {
   "cell_type": "code",
   "execution_count": 184,
   "id": "3ce26d0c",
   "metadata": {},
   "outputs": [],
   "source": [
    "df[\"Price\"] = (\n",
    "    df[\"Price\"]\n",
    "    .str.replace(\",\", \"\")                   # Remove commas\n",
    "    .str.replace(r\"\\.$\", \"\", regex=True)   # Remove trailing dot if exists\n",
    "    .astype(float)\n",
    "    .round(2)\n",
    ")\n",
    "\n",
    "df = df[df[\"Price\"] >= 10000] #removing products with price < 10000"
   ]
  },
  {
   "cell_type": "code",
   "execution_count": 185,
   "id": "9ed08920",
   "metadata": {},
   "outputs": [
    {
     "data": {
      "text/plain": [
       "File                      8136\n",
       "URL                       8136\n",
       "Brand                     7967\n",
       "Product Name              8136\n",
       "Model Number              7806\n",
       "Model Year                1053\n",
       "Price                     8136\n",
       "Rating(out of 5)          8136\n",
       "Discount (%)              5434\n",
       "Band Colour               7405\n",
       "Band Material             7713\n",
       "Band Width                7241\n",
       "Case Diameter             7410\n",
       "Case Material             7312\n",
       "Case Thickness            7282\n",
       "Dial Colour               7433\n",
       "Crystal Material          6870\n",
       "Case Shape                7413\n",
       "Movement                  7767\n",
       "Water Resistance Depth    6469\n",
       "Special Features          5182\n",
       "Image                     8136\n",
       "ImageURL                  8136\n",
       "dtype: int64"
      ]
     },
     "execution_count": 185,
     "metadata": {},
     "output_type": "execute_result"
    }
   ],
   "source": [
    "df.count()"
   ]
  },
  {
   "cell_type": "code",
   "execution_count": 186,
   "id": "3b68b198",
   "metadata": {},
   "outputs": [],
   "source": [
    "# df[\"Rating(out of 5)\"].apply(type).value_counts()\n",
    "# df.head(3)"
   ]
  },
  {
   "cell_type": "code",
   "execution_count": 187,
   "id": "1893f624",
   "metadata": {},
   "outputs": [],
   "source": [
    "#adding price band\n",
    "\n",
    "df[\"Price Band\"] = pd.cut(\n",
    "    df[\"Price\"],\n",
    "    bins=[0, 10000, 15000, 25000, 40000, float(\"inf\")],\n",
    "    labels=[\"<10K\", \"10K-15K\", \"15K-25K\", \"25K-40K\", \"40K+\"],\n",
    "    right=False\n",
    ")\n"
   ]
  },
  {
   "cell_type": "code",
   "execution_count": 188,
   "id": "c3aa76cd",
   "metadata": {},
   "outputs": [],
   "source": [
    "df[\"Discount (%)\"] = (\n",
    "    df[\"Discount (%)\"]\n",
    "    .astype(str)\n",
    "    .str.extract(r\"(\\d+\\.?\\d*)\")[0]         # extract numeric part\n",
    "    .replace(\"\", np.nan)\n",
    "    .astype(float)\n",
    "    .map(lambda x: f\"{int(x)}%\" if x.is_integer() else f\"{x}%\" if pd.notna(x) else np.nan)\n",
    ")\n"
   ]
  },
  {
   "cell_type": "code",
   "execution_count": 189,
   "id": "f98763cf",
   "metadata": {},
   "outputs": [],
   "source": [
    "def normalize_to_mm(value):\n",
    "    import numpy as np\n",
    "    import re\n",
    "\n",
    "    if pd.isna(value) or str(value).strip() == \"\":\n",
    "        return np.nan\n",
    "\n",
    "    text = str(value).strip().lower()\n",
    "    match = re.search(r\"(\\d+\\.?\\d*)\", text)\n",
    "    if not match:\n",
    "        return np.nan\n",
    "\n",
    "    num = float(match.group(1))\n",
    "    if \"cm\" in text:\n",
    "        num *= 10  # convert to millimeters\n",
    "\n",
    "    return f\"{int(num)} Millimeters\" if num.is_integer() else f\"{num} Millimeters\"\n",
    "\n",
    "df[\"Band Width\"] = df[\"Band Width\"].apply(normalize_to_mm)\n",
    "df[\"Case Diameter\"] = df[\"Case Diameter\"].apply(normalize_to_mm)\n",
    "df[\"Case Thickness\"] = df[\"Case Thickness\"].apply(normalize_to_mm)\n"
   ]
  },
  {
   "cell_type": "code",
   "execution_count": 190,
   "id": "0cd62ef7",
   "metadata": {},
   "outputs": [],
   "source": [
    "unwanted_keywords = [\"pocket watch\", \"repair tool\", \"watch bezel\", \"watch band\", \"tool\", \"watch winder\", \"watch case\"]\n",
    "\n",
    "df = df[~df[\"Product Name\"].str.lower().str.contains('|'.join(unwanted_keywords))]\n"
   ]
  },
  {
   "cell_type": "code",
   "execution_count": 191,
   "id": "f304c26c",
   "metadata": {},
   "outputs": [
    {
     "data": {
      "text/plain": [
       "File                      7958\n",
       "URL                       7958\n",
       "Brand                     7798\n",
       "Product Name              7958\n",
       "Model Number              7635\n",
       "Model Year                 975\n",
       "Price                     7958\n",
       "Rating(out of 5)          7958\n",
       "Discount (%)              5313\n",
       "Band Colour               7297\n",
       "Band Material             7598\n",
       "Band Width                7165\n",
       "Case Diameter             7295\n",
       "Case Material             7201\n",
       "Case Thickness            7175\n",
       "Dial Colour               7314\n",
       "Crystal Material          6763\n",
       "Case Shape                7296\n",
       "Movement                  7628\n",
       "Water Resistance Depth    6425\n",
       "Special Features          5043\n",
       "Image                     7958\n",
       "ImageURL                  7958\n",
       "Price Band                7958\n",
       "dtype: int64"
      ]
     },
     "execution_count": 191,
     "metadata": {},
     "output_type": "execute_result"
    }
   ],
   "source": [
    "df.count()"
   ]
  },
  {
   "cell_type": "code",
   "execution_count": 192,
   "id": "5649e6fb",
   "metadata": {},
   "outputs": [
    {
     "name": "stderr",
     "output_type": "stream",
     "text": [
      "C:\\Users\\stuti\\AppData\\Local\\Temp\\ipykernel_21568\\4133546520.py:71: FutureWarning: Setting an item of incompatible dtype is deprecated and will raise an error in a future version of pandas. Value 'Tommy Hilfiger' has dtype incompatible with float64, please explicitly cast to a compatible dtype first.\n",
      "  df.loc[mask, \"__brand_match__\"] = clean_brand\n"
     ]
    }
   ],
   "source": [
    "##Identifying missing brands for Major Brands\n",
    "\n",
    "import numpy as np\n",
    "import re\n",
    "\n",
    "# Step 1: Define brand keyword mapping\n",
    "brand_map = {\n",
    "    \"tommy hilfiger\": \"Tommy Hilfiger\",\n",
    "    \"tommy\": \"Tommy Hilfiger\",\n",
    "    \"armani exchange\": \"Armani Exchange\",\n",
    "    \"diesel\": \"Diesel\",\n",
    "    \"fossil\": \"Fossil\",\n",
    "    \"titan\": \"Titan\",\n",
    "    \"casio\": \"Casio\",\n",
    "    \"michael kors\": \"Michael Kors\",\n",
    "    \"maserati\": \"Maserati\",\n",
    "    \"luminox\": \"Luminox\",\n",
    "    \"zeppelin\": \"Zeppelin\",\n",
    "    \"seiko\": \"Seiko\",\n",
    "    \"ted baker\": \"Ted Baker\",\n",
    "    \"invicta\": \"Invicta\",\n",
    "    \"citizen\": \"Citizen\",\n",
    "    \"emporio armani\": \"Emporio Armani\",\n",
    "    \"guess\": \"Guess\",\n",
    "    \"fiece\": \"Fiece\",\n",
    "    \"just cavalli\": \"Just Cavalli\",\n",
    "    \"earnshaw\": \"Earnshaw\",\n",
    "    \"alba\": \"Alba\",\n",
    "    \"daniel wellington\": \"Daniel Wellington\",\n",
    "    \"police\": \"Police\",\n",
    "    \"olevs\": \"Olevs\",\n",
    "    \"ducati\": \"Ducati\",\n",
    "    \"mathey-tissot\": \"Mathey-Tissot\",\n",
    "    \"timex\": \"Timex\",\n",
    "    \"swarovski\": \"Swarovski\",\n",
    "    \"nautica\": \"Nautica\",\n",
    "    \"swiss military hanowa\": \"Swiss Military Hanowa\",\n",
    "    \"lacoste\": \"Lacoste\",\n",
    "    \"boss\": \"Boss\",\n",
    "    \"anne klein\": \"Anne Klein\",\n",
    "    \"calvin klein\": \"Calvin Klein\",\n",
    "    \"pierre cardin\": \"Pierre Cardin\",\n",
    "    \"coach\": \"Coach\",\n",
    "    \"p philip\": \"P Philip\",\n",
    "    \"tag heuer\": \"Tag Heuer\",\n",
    "    \"kenneth cole\": \"Kenneth Cole\",\n",
    "    \"philipp plein\": \"Philipp Plein\",\n",
    "    \"guy laroche\": \"Guy Laroche\",\n",
    "    \"carlos philip\": \"Carlos Philip\",\n",
    "    \"adidas\": \"Adidas\",\n",
    "    \"movado\": \"Movado\",\n",
    "    \"daniel klein\": \"Daniel Klein\",\n",
    "    \"sonata\": \"Sonata\",\n",
    "    \"d1 milano\": \"D1 Milano\",\n",
    "    \"alexandre christie\": \"Alexandre Christie\",\n",
    "    \"santa barbara\": \"Santa Barbara Polo & Racquet Club\",\n",
    "    \"mini cooper\": \"MINI Cooper\",\n",
    "    \"hanowa\": \"Hanowa\",\n",
    "    \"charles-hubert\": \"Charles-Hubert\",\n",
    "    \"gc\": \"GC\"\n",
    "}\n",
    "\n",
    "# Step 2: Create helper lowercase column\n",
    "df[\"__product_lower__\"] = df[\"Product Name\"].str.lower()\n",
    "df[\"__brand_match__\"] = np.nan\n",
    "\n",
    "# Step 3: Match known brand keywords in Product Name (exact word match)\n",
    "for keyword, clean_brand in brand_map.items():\n",
    "    pattern = rf\"\\b{re.escape(keyword)}\\b\"\n",
    "    mask = df[\"Brand\"].isna() & df[\"__product_lower__\"].str.contains(pattern, regex=True)\n",
    "    df.loc[mask, \"__brand_match__\"] = clean_brand\n",
    "\n",
    "# Step 4: Fill missing Brand from matched keywords\n",
    "df[\"Brand\"] = df[\"Brand\"].fillna(df[\"__brand_match__\"])\n",
    "\n",
    "# Step 5: Set remaining missing Brand as \"NA\"\n",
    "df[\"Brand\"] = df[\"Brand\"].fillna(\"NA\")\n",
    "\n",
    "# Step 6: Drop helper columns\n",
    "df.drop(columns=[\"__product_lower__\", \"__brand_match__\"], inplace=True)\n"
   ]
  },
  {
   "cell_type": "code",
   "execution_count": 193,
   "id": "1e78fa04",
   "metadata": {},
   "outputs": [],
   "source": [
    "def categorize_titan(row):\n",
    "    brand = str(row[\"Brand\"]).strip().title()\n",
    "    product = str(row[\"Product Name\"]).strip().title()\n",
    "\n",
    "    if brand == \"Titan\":\n",
    "        if \"Xylys\" in product:\n",
    "            return \"Titan Xylys\"\n",
    "        elif \"Edge\" in product:\n",
    "            return \"Titan Edge\"\n",
    "        elif \"Raga\" in product:\n",
    "            return \"Titan Raga\"\n",
    "        else:\n",
    "            return \"Titan\"\n",
    "    return brand\n",
    "\n",
    "df[\"Brand\"] = df.apply(categorize_titan, axis=1)\n"
   ]
  },
  {
   "cell_type": "code",
   "execution_count": 194,
   "id": "73e0965c",
   "metadata": {},
   "outputs": [
    {
     "data": {
      "text/html": [
       "<div>\n",
       "<style scoped>\n",
       "    .dataframe tbody tr th:only-of-type {\n",
       "        vertical-align: middle;\n",
       "    }\n",
       "\n",
       "    .dataframe tbody tr th {\n",
       "        vertical-align: top;\n",
       "    }\n",
       "\n",
       "    .dataframe thead th {\n",
       "        text-align: right;\n",
       "    }\n",
       "</style>\n",
       "<table border=\"1\" class=\"dataframe\">\n",
       "  <thead>\n",
       "    <tr style=\"text-align: right;\">\n",
       "      <th></th>\n",
       "      <th>Brand</th>\n",
       "      <th>Unique Product Count</th>\n",
       "    </tr>\n",
       "  </thead>\n",
       "  <tbody>\n",
       "    <tr>\n",
       "      <th>0</th>\n",
       "      <td>Titan</td>\n",
       "      <td>219</td>\n",
       "    </tr>\n",
       "    <tr>\n",
       "      <th>1</th>\n",
       "      <td>Titan Edge</td>\n",
       "      <td>63</td>\n",
       "    </tr>\n",
       "    <tr>\n",
       "      <th>2</th>\n",
       "      <td>Titan Raga</td>\n",
       "      <td>52</td>\n",
       "    </tr>\n",
       "    <tr>\n",
       "      <th>3</th>\n",
       "      <td>Titan Xylys</td>\n",
       "      <td>6</td>\n",
       "    </tr>\n",
       "  </tbody>\n",
       "</table>\n",
       "</div>"
      ],
      "text/plain": [
       "         Brand  Unique Product Count\n",
       "0        Titan                   219\n",
       "1   Titan Edge                    63\n",
       "2   Titan Raga                    52\n",
       "3  Titan Xylys                     6"
      ]
     },
     "execution_count": 194,
     "metadata": {},
     "output_type": "execute_result"
    }
   ],
   "source": [
    "#we are taking product name here because many products donot have a model number, and name is unique\n",
    "\n",
    "\n",
    "df[df[\"Brand\"].isin([\"Titan\", \"Titan Edge\", \"Titan Raga\", \"Titan Xylys\"])] \\\n",
    "    .groupby(\"Brand\")[\"Product Name\"] \\\n",
    "    .nunique() \\\n",
    "    .reset_index(name=\"Unique Product Count\") \\\n",
    "    .sort_values(by=\"Unique Product Count\", ascending=False)\n"
   ]
  },
  {
   "cell_type": "code",
   "execution_count": null,
   "id": "3348705b",
   "metadata": {},
   "outputs": [],
   "source": [
    "# # Step 1: Count unique products per brand\n",
    "# brand_counts = df.groupby(\"Brand\")[\"Product Name\"].nunique()\n",
    "\n",
    "# # Step 2: Identify brands to keep\n",
    "# brands_to_keep = [\"Titan\", \"Titan Edge\", \"Titan Raga\", \"Titan Xylys\"]\n",
    "# brands_over_50 = brand_counts[brand_counts >= 50].index.tolist()\n",
    "\n",
    "# # Final list of brands to retain as-is\n",
    "# final_brands = set(brands_to_keep) | set(brands_over_50)\n",
    "\n",
    "# # Step 3: Replace other brands with \"Others\"\n",
    "# df[\"Brand\"] = df[\"Brand\"].apply(lambda x: x if x in final_brands else \"Others\")\n"
   ]
  },
  {
   "cell_type": "code",
   "execution_count": 195,
   "id": "b0096125",
   "metadata": {},
   "outputs": [],
   "source": [
    "#Adding a gender column\n",
    "\n",
    "def infer_gender(product_name):\n",
    "    name = str(product_name).lower()\n",
    "\n",
    "    if \"couple\" in name:\n",
    "        return \"Couple\"\n",
    "    elif any(word in name for word in [\"female\", \"women\", \"woman\", \"girl\", \"ladies\", \"women's\", \"girl's\"]):\n",
    "        return \"Women\"\n",
    "    elif any(word in name for word in [\"male\", \"man\", \"men\", \"boy\", \"men's\", \"boy's\"]):\n",
    "        return \"Men\"\n",
    "    else:\n",
    "        return \"Unisex\"\n",
    "\n",
    "\n",
    "df[\"Gender\"] = df[\"Product Name\"].apply(infer_gender)"
   ]
  },
  {
   "cell_type": "code",
   "execution_count": 196,
   "id": "1c1b85a2",
   "metadata": {},
   "outputs": [
    {
     "data": {
      "text/plain": [
       "Gender\n",
       "Men       5088\n",
       "Women     2297\n",
       "Unisex     538\n",
       "Couple      35\n",
       "Name: count, dtype: int64"
      ]
     },
     "execution_count": 196,
     "metadata": {},
     "output_type": "execute_result"
    }
   ],
   "source": [
    "df[\"Gender\"].value_counts()\n"
   ]
  },
  {
   "cell_type": "code",
   "execution_count": 197,
   "id": "ed593c49",
   "metadata": {},
   "outputs": [],
   "source": [
    "from datetime import datetime\n",
    "\n",
    "df[\"As of Date\"] = datetime.today().strftime(\"%Y-%m-%d\")"
   ]
  },
  {
   "cell_type": "code",
   "execution_count": 199,
   "id": "9f7a0c0a",
   "metadata": {},
   "outputs": [
    {
     "name": "stdout",
     "output_type": "stream",
     "text": [
      "✅ Data saved to C:\\Users\\stuti\\OneDrive - Symbiosis International University\\Desktop\\HTML_Folder\\Final_Watch_Data_Cleaned.xlsx\n"
     ]
    }
   ],
   "source": [
    "# Sort by file number (e.g., 1.html → 2.html → 3.html)\n",
    "df = df.sort_values(by=\"File\", key=lambda col: col.map(lambda x: int(os.path.splitext(x)[0])))\n",
    "\n",
    "output_path = r\"C:\\Users\\stuti\\OneDrive - Symbiosis International University\\Desktop\\HTML_Folder\\Final_Watch_Data_Cleaned.xlsx\"\n",
    "\n",
    "df.to_excel(output_path, index=False)\n",
    "\n",
    "print(f\"✅ Data saved to {output_path}\")"
   ]
  },
  {
   "cell_type": "code",
   "execution_count": null,
   "id": "5da2470b",
   "metadata": {},
   "outputs": [],
   "source": []
  }
 ],
 "metadata": {
  "kernelspec": {
   "display_name": "Python 3",
   "language": "python",
   "name": "python3"
  },
  "language_info": {
   "codemirror_mode": {
    "name": "ipython",
    "version": 3
   },
   "file_extension": ".py",
   "mimetype": "text/x-python",
   "name": "python",
   "nbconvert_exporter": "python",
   "pygments_lexer": "ipython3",
   "version": "3.13.2"
  }
 },
 "nbformat": 4,
 "nbformat_minor": 5
}
